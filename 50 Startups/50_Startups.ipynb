{
  "nbformat": 4,
  "nbformat_minor": 0,
  "metadata": {
    "colab": {
      "name": "50_Startups",
      "provenance": [],
      "authorship_tag": "ABX9TyODG76Y9eFXHFecregN/aj4",
      "include_colab_link": true
    },
    "kernelspec": {
      "name": "python3",
      "display_name": "Python 3"
    }
  },
  "cells": [
    {
      "cell_type": "markdown",
      "metadata": {
        "id": "view-in-github",
        "colab_type": "text"
      },
      "source": [
        "<a href=\"https://colab.research.google.com/github/Dhruvjain484/Machine-learning-projects-for-beginner/blob/main/50%20Startups/50_Startups.ipynb\" target=\"_parent\"><img src=\"https://colab.research.google.com/assets/colab-badge.svg\" alt=\"Open In Colab\"/></a>"
      ]
    },
    {
      "cell_type": "markdown",
      "metadata": {
        "id": "jCyt_c18FzsY"
      },
      "source": [
        "##Importing the libraries"
      ]
    },
    {
      "cell_type": "code",
      "metadata": {
        "id": "KCfdUP0k_d7E"
      },
      "source": [
        "import pandas as pd\r\n",
        "import numpy as np \r\n",
        "import matplotlib.pyplot as plt"
      ],
      "execution_count": 59,
      "outputs": []
    },
    {
      "cell_type": "markdown",
      "metadata": {
        "id": "FV41PTmkF3a1"
      },
      "source": [
        "##Importing the dataset"
      ]
    },
    {
      "cell_type": "code",
      "metadata": {
        "id": "QCRQGta6Phq2",
        "colab": {
          "base_uri": "https://localhost:8080/"
        },
        "outputId": "6195f281-1980-4702-cf2c-ed4b2379a753"
      },
      "source": [
        "dataset = pd.read_csv('50_Startups.csv')\r\n",
        "\r\n",
        "dataset.isnull().sum()"
      ],
      "execution_count": 60,
      "outputs": [
        {
          "output_type": "execute_result",
          "data": {
            "text/plain": [
              "R&D Spend          0\n",
              "Administration     0\n",
              "Marketing Spend    0\n",
              "State              0\n",
              "Profit             0\n",
              "dtype: int64"
            ]
          },
          "metadata": {
            "tags": []
          },
          "execution_count": 60
        }
      ]
    },
    {
      "cell_type": "code",
      "metadata": {
        "colab": {
          "base_uri": "https://localhost:8080/"
        },
        "id": "PwjuzoU_z0PQ",
        "outputId": "d19dcda8-6383-4d44-aa4e-20ed7659e811"
      },
      "source": [
        "dataset.info()"
      ],
      "execution_count": 61,
      "outputs": [
        {
          "output_type": "stream",
          "text": [
            "<class 'pandas.core.frame.DataFrame'>\n",
            "RangeIndex: 50 entries, 0 to 49\n",
            "Data columns (total 5 columns):\n",
            " #   Column           Non-Null Count  Dtype  \n",
            "---  ------           --------------  -----  \n",
            " 0   R&D Spend        50 non-null     float64\n",
            " 1   Administration   50 non-null     float64\n",
            " 2   Marketing Spend  50 non-null     float64\n",
            " 3   State            50 non-null     object \n",
            " 4   Profit           50 non-null     float64\n",
            "dtypes: float64(4), object(1)\n",
            "memory usage: 2.1+ KB\n"
          ],
          "name": "stdout"
        }
      ]
    },
    {
      "cell_type": "code",
      "metadata": {
        "colab": {
          "base_uri": "https://localhost:8080/",
          "height": 166
        },
        "id": "9cnU3PLXBNco",
        "outputId": "02049388-ee64-4d9c-dcfa-dc932704162b"
      },
      "source": [
        "dataset.corr() #Determining the correlation between different features"
      ],
      "execution_count": 75,
      "outputs": [
        {
          "output_type": "execute_result",
          "data": {
            "text/html": [
              "<div>\n",
              "<style scoped>\n",
              "    .dataframe tbody tr th:only-of-type {\n",
              "        vertical-align: middle;\n",
              "    }\n",
              "\n",
              "    .dataframe tbody tr th {\n",
              "        vertical-align: top;\n",
              "    }\n",
              "\n",
              "    .dataframe thead th {\n",
              "        text-align: right;\n",
              "    }\n",
              "</style>\n",
              "<table border=\"1\" class=\"dataframe\">\n",
              "  <thead>\n",
              "    <tr style=\"text-align: right;\">\n",
              "      <th></th>\n",
              "      <th>R&amp;D Spend</th>\n",
              "      <th>Administration</th>\n",
              "      <th>Marketing Spend</th>\n",
              "      <th>Profit</th>\n",
              "    </tr>\n",
              "  </thead>\n",
              "  <tbody>\n",
              "    <tr>\n",
              "      <th>R&amp;D Spend</th>\n",
              "      <td>1.000000</td>\n",
              "      <td>0.241955</td>\n",
              "      <td>0.724248</td>\n",
              "      <td>0.972900</td>\n",
              "    </tr>\n",
              "    <tr>\n",
              "      <th>Administration</th>\n",
              "      <td>0.241955</td>\n",
              "      <td>1.000000</td>\n",
              "      <td>-0.032154</td>\n",
              "      <td>0.200717</td>\n",
              "    </tr>\n",
              "    <tr>\n",
              "      <th>Marketing Spend</th>\n",
              "      <td>0.724248</td>\n",
              "      <td>-0.032154</td>\n",
              "      <td>1.000000</td>\n",
              "      <td>0.747766</td>\n",
              "    </tr>\n",
              "    <tr>\n",
              "      <th>Profit</th>\n",
              "      <td>0.972900</td>\n",
              "      <td>0.200717</td>\n",
              "      <td>0.747766</td>\n",
              "      <td>1.000000</td>\n",
              "    </tr>\n",
              "  </tbody>\n",
              "</table>\n",
              "</div>"
            ],
            "text/plain": [
              "                 R&D Spend  Administration  Marketing Spend    Profit\n",
              "R&D Spend         1.000000        0.241955         0.724248  0.972900\n",
              "Administration    0.241955        1.000000        -0.032154  0.200717\n",
              "Marketing Spend   0.724248       -0.032154         1.000000  0.747766\n",
              "Profit            0.972900        0.200717         0.747766  1.000000"
            ]
          },
          "metadata": {
            "tags": []
          },
          "execution_count": 75
        }
      ]
    },
    {
      "cell_type": "code",
      "metadata": {
        "id": "nLb4uk0L8v3t"
      },
      "source": [
        "x = dataset.iloc[:, :-1].values\r\n",
        "y = dataset.iloc[:, -1].values"
      ],
      "execution_count": 62,
      "outputs": []
    },
    {
      "cell_type": "code",
      "metadata": {
        "id": "PehddYG18vIy"
      },
      "source": [
        "y = y.reshape(len(y), 1)"
      ],
      "execution_count": 63,
      "outputs": []
    },
    {
      "cell_type": "markdown",
      "metadata": {
        "id": "6z8JMdrjz5-z"
      },
      "source": [
        "##Encoding Categorical Data"
      ]
    },
    {
      "cell_type": "code",
      "metadata": {
        "colab": {
          "base_uri": "https://localhost:8080/"
        },
        "id": "7iWho3wtz9Vp",
        "outputId": "9a238fcf-622f-48f7-c874-3c04c18031c2"
      },
      "source": [
        "from sklearn.compose import ColumnTransformer\r\n",
        "from sklearn.preprocessing import OneHotEncoder\r\n",
        "\r\n",
        "ct = ColumnTransformer(transformers=[('encoder', OneHotEncoder(), [3])] , remainder= 'passthrough')\r\n",
        "x = ct.fit_transform(x)\r\n",
        "x"
      ],
      "execution_count": 64,
      "outputs": [
        {
          "output_type": "execute_result",
          "data": {
            "text/plain": [
              "array([[0.0, 0.0, 1.0, 165349.2, 136897.8, 471784.1],\n",
              "       [1.0, 0.0, 0.0, 162597.7, 151377.59, 443898.53],\n",
              "       [0.0, 1.0, 0.0, 153441.51, 101145.55, 407934.54],\n",
              "       [0.0, 0.0, 1.0, 144372.41, 118671.85, 383199.62],\n",
              "       [0.0, 1.0, 0.0, 142107.34, 91391.77, 366168.42],\n",
              "       [0.0, 0.0, 1.0, 131876.9, 99814.71, 362861.36],\n",
              "       [1.0, 0.0, 0.0, 134615.46, 147198.87, 127716.82],\n",
              "       [0.0, 1.0, 0.0, 130298.13, 145530.06, 323876.68],\n",
              "       [0.0, 0.0, 1.0, 120542.52, 148718.95, 311613.29],\n",
              "       [1.0, 0.0, 0.0, 123334.88, 108679.17, 304981.62],\n",
              "       [0.0, 1.0, 0.0, 101913.08, 110594.11, 229160.95],\n",
              "       [1.0, 0.0, 0.0, 100671.96, 91790.61, 249744.55],\n",
              "       [0.0, 1.0, 0.0, 93863.75, 127320.38, 249839.44],\n",
              "       [1.0, 0.0, 0.0, 91992.39, 135495.07, 252664.93],\n",
              "       [0.0, 1.0, 0.0, 119943.24, 156547.42, 256512.92],\n",
              "       [0.0, 0.0, 1.0, 114523.61, 122616.84, 261776.23],\n",
              "       [1.0, 0.0, 0.0, 78013.11, 121597.55, 264346.06],\n",
              "       [0.0, 0.0, 1.0, 94657.16, 145077.58, 282574.31],\n",
              "       [0.0, 1.0, 0.0, 91749.16, 114175.79, 294919.57],\n",
              "       [0.0, 0.0, 1.0, 86419.7, 153514.11, 0.0],\n",
              "       [1.0, 0.0, 0.0, 76253.86, 113867.3, 298664.47],\n",
              "       [0.0, 0.0, 1.0, 78389.47, 153773.43, 299737.29],\n",
              "       [0.0, 1.0, 0.0, 73994.56, 122782.75, 303319.26],\n",
              "       [0.0, 1.0, 0.0, 67532.53, 105751.03, 304768.73],\n",
              "       [0.0, 0.0, 1.0, 77044.01, 99281.34, 140574.81],\n",
              "       [1.0, 0.0, 0.0, 64664.71, 139553.16, 137962.62],\n",
              "       [0.0, 1.0, 0.0, 75328.87, 144135.98, 134050.07],\n",
              "       [0.0, 0.0, 1.0, 72107.6, 127864.55, 353183.81],\n",
              "       [0.0, 1.0, 0.0, 66051.52, 182645.56, 118148.2],\n",
              "       [0.0, 0.0, 1.0, 65605.48, 153032.06, 107138.38],\n",
              "       [0.0, 1.0, 0.0, 61994.48, 115641.28, 91131.24],\n",
              "       [0.0, 0.0, 1.0, 61136.38, 152701.92, 88218.23],\n",
              "       [1.0, 0.0, 0.0, 63408.86, 129219.61, 46085.25],\n",
              "       [0.0, 1.0, 0.0, 55493.95, 103057.49, 214634.81],\n",
              "       [1.0, 0.0, 0.0, 46426.07, 157693.92, 210797.67],\n",
              "       [0.0, 0.0, 1.0, 46014.02, 85047.44, 205517.64],\n",
              "       [0.0, 1.0, 0.0, 28663.76, 127056.21, 201126.82],\n",
              "       [1.0, 0.0, 0.0, 44069.95, 51283.14, 197029.42],\n",
              "       [0.0, 0.0, 1.0, 20229.59, 65947.93, 185265.1],\n",
              "       [1.0, 0.0, 0.0, 38558.51, 82982.09, 174999.3],\n",
              "       [1.0, 0.0, 0.0, 28754.33, 118546.05, 172795.67],\n",
              "       [0.0, 1.0, 0.0, 27892.92, 84710.77, 164470.71],\n",
              "       [1.0, 0.0, 0.0, 23640.93, 96189.63, 148001.11],\n",
              "       [0.0, 0.0, 1.0, 15505.73, 127382.3, 35534.17],\n",
              "       [1.0, 0.0, 0.0, 22177.74, 154806.14, 28334.72],\n",
              "       [0.0, 0.0, 1.0, 1000.23, 124153.04, 1903.93],\n",
              "       [0.0, 1.0, 0.0, 1315.46, 115816.21, 297114.46],\n",
              "       [1.0, 0.0, 0.0, 0.0, 135426.92, 0.0],\n",
              "       [0.0, 0.0, 1.0, 542.05, 51743.15, 0.0],\n",
              "       [1.0, 0.0, 0.0, 0.0, 116983.8, 45173.06]], dtype=object)"
            ]
          },
          "metadata": {
            "tags": []
          },
          "execution_count": 64
        }
      ]
    },
    {
      "cell_type": "markdown",
      "metadata": {
        "id": "7KNMk1WFF6UE"
      },
      "source": [
        "##Scaling the dataset\r\n"
      ]
    },
    {
      "cell_type": "code",
      "metadata": {
        "id": "cplrLdQH-Ts-"
      },
      "source": [
        "from sklearn.preprocessing import StandardScaler\r\n",
        "scaled_x = StandardScaler()\r\n",
        "scaled_y = StandardScaler()\r\n",
        "\r\n",
        "x[:, 3:] = scaled_x.fit_transform(x[:, 3:])\r\n",
        "y = scaled_y.fit_transform(y)\r\n"
      ],
      "execution_count": 65,
      "outputs": []
    },
    {
      "cell_type": "markdown",
      "metadata": {
        "id": "8J3WYQ68F8S1"
      },
      "source": [
        "##Training the Regression model on the dataset"
      ]
    },
    {
      "cell_type": "code",
      "metadata": {
        "colab": {
          "base_uri": "https://localhost:8080/"
        },
        "id": "J3z8c7cD_JVk",
        "outputId": "58db017d-32dd-443d-e17d-e1cf2d803cde"
      },
      "source": [
        "from sklearn.linear_model import LinearRegression \r\n",
        "regressor = LinearRegression()\r\n",
        "\r\n",
        "# from sklearn.svm import SVR\r\n",
        "# regressor = SVR(kernel= 'rbf')\r\n",
        "\r\n",
        "# from sklearn.ensemble import RandomForestRegressor\r\n",
        "# regressor = RandomForestRegressor()\r\n",
        "\r\n",
        "# from xgboost import XGBRegressor\r\n",
        "# regressor = XGBRegressor()\r\n",
        "regressor.fit(x, y)"
      ],
      "execution_count": 66,
      "outputs": [
        {
          "output_type": "execute_result",
          "data": {
            "text/plain": [
              "LinearRegression(copy_X=True, fit_intercept=True, n_jobs=None, normalize=False)"
            ]
          },
          "metadata": {
            "tags": []
          },
          "execution_count": 66
        }
      ]
    },
    {
      "cell_type": "markdown",
      "metadata": {
        "id": "9S3S13kiGCaE"
      },
      "source": [
        "##Predicting the result"
      ]
    },
    {
      "cell_type": "code",
      "metadata": {
        "colab": {
          "base_uri": "https://localhost:8080/"
        },
        "id": "PM7-Mins_XLN",
        "outputId": "fb17a489-c356-4727-c377-69b7e186c662"
      },
      "source": [
        "y_pred = scaled_y.inverse_transform(regressor.predict(x))\r\n",
        "np.set_printoptions(precision = 2) #Number of digits to appear after decimal point\r\n",
        "y_pred = y_pred.reshape(len(y_pred), 1)\r\n",
        "y_pred"
      ],
      "execution_count": 67,
      "outputs": [
        {
          "output_type": "execute_result",
          "data": {
            "text/plain": [
              "array([[192390.57],\n",
              "       [189071.32],\n",
              "       [182276.19],\n",
              "       [173584.98],\n",
              "       [172277.13],\n",
              "       [163473.81],\n",
              "       [158099.29],\n",
              "       [160155.64],\n",
              "       [151634.74],\n",
              "       [154829.66],\n",
              "       [135664.64],\n",
              "       [135528.6 ],\n",
              "       [129282.92],\n",
              "       [127431.25],\n",
              "       [149694.38],\n",
              "       [146143.64],\n",
              "       [116854.07],\n",
              "       [130085.41],\n",
              "       [129149.73],\n",
              "       [115594.19],\n",
              "       [116570.73],\n",
              "       [117201.51],\n",
              "       [114833.31],\n",
              "       [110123.8 ],\n",
              "       [113294.37],\n",
              "       [102200.27],\n",
              "       [110765.3 ],\n",
              "       [114279.8 ],\n",
              "       [101818.59],\n",
              "       [101721.04],\n",
              "       [ 99629.01],\n",
              "       [ 97617.3 ],\n",
              "       [ 98988.24],\n",
              "       [ 98061.36],\n",
              "       [ 88974.7 ],\n",
              "       [ 90420.01],\n",
              "       [ 75423.09],\n",
              "       [ 89577.7 ],\n",
              "       [ 69606.52],\n",
              "       [ 83684.98],\n",
              "       [ 74762.75],\n",
              "       [ 74956.31],\n",
              "       [ 70575.99],\n",
              "       [ 60100.27],\n",
              "       [ 64585.15],\n",
              "       [ 47588.36],\n",
              "       [ 56272.99],\n",
              "       [ 46468.23],\n",
              "       [ 49123.07],\n",
              "       [ 48185.04]])"
            ]
          },
          "metadata": {
            "tags": []
          },
          "execution_count": 67
        }
      ]
    },
    {
      "cell_type": "code",
      "metadata": {
        "colab": {
          "base_uri": "https://localhost:8080/"
        },
        "id": "gXFREsmk_dvL",
        "outputId": "0bee5785-2625-4bbf-9a97-faefc07f2693"
      },
      "source": [
        "np.concatenate((scaled_y.inverse_transform(y), y_pred), 1)"
      ],
      "execution_count": 71,
      "outputs": [
        {
          "output_type": "execute_result",
          "data": {
            "text/plain": [
              "array([[192261.83, 192390.57],\n",
              "       [191792.06, 189071.32],\n",
              "       [191050.39, 182276.19],\n",
              "       [182901.99, 173584.98],\n",
              "       [166187.94, 172277.13],\n",
              "       [156991.12, 163473.81],\n",
              "       [156122.51, 158099.29],\n",
              "       [155752.6 , 160155.64],\n",
              "       [152211.77, 151634.74],\n",
              "       [149759.96, 154829.66],\n",
              "       [146121.95, 135664.64],\n",
              "       [144259.4 , 135528.6 ],\n",
              "       [141585.52, 129282.92],\n",
              "       [134307.35, 127431.25],\n",
              "       [132602.65, 149694.38],\n",
              "       [129917.04, 146143.64],\n",
              "       [126992.93, 116854.07],\n",
              "       [125370.37, 130085.41],\n",
              "       [124266.9 , 129149.73],\n",
              "       [122776.86, 115594.19],\n",
              "       [118474.03, 116570.73],\n",
              "       [111313.02, 117201.51],\n",
              "       [110352.25, 114833.31],\n",
              "       [108733.99, 110123.8 ],\n",
              "       [108552.04, 113294.37],\n",
              "       [107404.34, 102200.27],\n",
              "       [105733.54, 110765.3 ],\n",
              "       [105008.31, 114279.8 ],\n",
              "       [103282.38, 101818.59],\n",
              "       [101004.64, 101721.04],\n",
              "       [ 99937.59,  99629.01],\n",
              "       [ 97483.56,  97617.3 ],\n",
              "       [ 97427.84,  98988.24],\n",
              "       [ 96778.92,  98061.36],\n",
              "       [ 96712.8 ,  88974.7 ],\n",
              "       [ 96479.51,  90420.01],\n",
              "       [ 90708.19,  75423.09],\n",
              "       [ 89949.14,  89577.7 ],\n",
              "       [ 81229.06,  69606.52],\n",
              "       [ 81005.76,  83684.98],\n",
              "       [ 78239.91,  74762.75],\n",
              "       [ 77798.83,  74956.31],\n",
              "       [ 71498.49,  70575.99],\n",
              "       [ 69758.98,  60100.27],\n",
              "       [ 65200.33,  64585.15],\n",
              "       [ 64926.08,  47588.36],\n",
              "       [ 49490.75,  56272.99],\n",
              "       [ 42559.73,  46468.23],\n",
              "       [ 35673.41,  49123.07],\n",
              "       [ 14681.4 ,  48185.04]])"
            ]
          },
          "metadata": {
            "tags": []
          },
          "execution_count": 71
        }
      ]
    },
    {
      "cell_type": "markdown",
      "metadata": {
        "id": "D0pCHRc_GNWV"
      },
      "source": [
        "##Checking the accuracy"
      ]
    },
    {
      "cell_type": "code",
      "metadata": {
        "colab": {
          "base_uri": "https://localhost:8080/"
        },
        "id": "hORDFEjtBw1J",
        "outputId": "58677a9c-b4ab-452f-d34f-5238f900235b"
      },
      "source": [
        "from sklearn.metrics import r2_score\r\n",
        "r2_score(scaled_y.inverse_transform(y) ,y_pred)"
      ],
      "execution_count": 74,
      "outputs": [
        {
          "output_type": "execute_result",
          "data": {
            "text/plain": [
              "0.9507524843355148"
            ]
          },
          "metadata": {
            "tags": []
          },
          "execution_count": 74
        }
      ]
    }
  ]
}