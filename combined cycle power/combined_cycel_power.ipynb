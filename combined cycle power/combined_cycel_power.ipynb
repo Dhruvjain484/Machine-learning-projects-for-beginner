{
  "nbformat": 4,
  "nbformat_minor": 0,
  "metadata": {
    "colab": {
      "name": "combined_cycel_power.ipynb",
      "provenance": [],
      "authorship_tag": "ABX9TyP0agrURYta0coXvTy8MAYh",
      "include_colab_link": true
    },
    "kernelspec": {
      "name": "python3",
      "display_name": "Python 3"
    }
  },
  "cells": [
    {
      "cell_type": "markdown",
      "metadata": {
        "id": "view-in-github",
        "colab_type": "text"
      },
      "source": [
        "<a href=\"https://colab.research.google.com/github/Dhruvjain484/Machine-learning-projects-for-beginner/blob/main/combined%20cycle%20power/combined_cycel_power.ipynb\" target=\"_parent\"><img src=\"https://colab.research.google.com/assets/colab-badge.svg\" alt=\"Open In Colab\"/></a>"
      ]
    },
    {
      "cell_type": "markdown",
      "metadata": {
        "id": "-QECoqnbZn9q"
      },
      "source": [
        "##Importing libraries"
      ]
    },
    {
      "cell_type": "code",
      "metadata": {
        "id": "DZUjlcjksW_u"
      },
      "source": [
        "import pandas as pd\r\n",
        "import numpy as np\r\n",
        "import matplotlib.pyplot as plt"
      ],
      "execution_count": 1,
      "outputs": []
    },
    {
      "cell_type": "markdown",
      "metadata": {
        "id": "YOlwjVZWZrMS"
      },
      "source": [
        "##Importing the dataset"
      ]
    },
    {
      "cell_type": "code",
      "metadata": {
        "id": "IPPryfmbP2GV"
      },
      "source": [
        "dataset = pd.read_csv('Data_.csv')\r\n",
        "x = dataset.iloc[:, :-1].values\r\n",
        "y = dataset.iloc[:, -1].values"
      ],
      "execution_count": 32,
      "outputs": []
    },
    {
      "cell_type": "markdown",
      "metadata": {
        "id": "Z2Zz__4gZtcN"
      },
      "source": [
        "##Splitting the dataset"
      ]
    },
    {
      "cell_type": "code",
      "metadata": {
        "id": "cI0QpzobP6Tv"
      },
      "source": [
        "from sklearn.model_selection import train_test_split\r\n",
        "x_train, x_test, y_train, y_test = train_test_split(x, y, test_size = 0.2, random_state = 0)"
      ],
      "execution_count": 4,
      "outputs": []
    },
    {
      "cell_type": "markdown",
      "metadata": {
        "id": "9uxycayeZwp1"
      },
      "source": [
        "##Training the regression model"
      ]
    },
    {
      "cell_type": "code",
      "metadata": {
        "colab": {
          "base_uri": "https://localhost:8080/"
        },
        "id": "OJq0mW6FQUlv",
        "outputId": "1c7e936b-4654-4a32-eaea-9ac4e6ac1acb"
      },
      "source": [
        "# from xgboost import XGBRegressor \r\n",
        "# regressor = XGBRegressor()\r\n",
        "\r\n",
        "# from sklearn.linear_model import LinearRegression\r\n",
        "# regressor = LinearRegression()\r\n",
        "\r\n",
        "from sklearn.ensemble import RandomForestRegressor\r\n",
        "regressor = RandomForestRegressor(n_estimators = 10)\r\n",
        "\r\n",
        "# from sklearn.tree import DecisionTreeRegressor\r\n",
        "# regressor = DecisionTreeRegressor()\r\n",
        "regressor.fit(x_train, y_train)"
      ],
      "execution_count": 56,
      "outputs": [
        {
          "output_type": "execute_result",
          "data": {
            "text/plain": [
              "RandomForestRegressor(bootstrap=True, ccp_alpha=0.0, criterion='mse',\n",
              "                      max_depth=None, max_features='auto', max_leaf_nodes=None,\n",
              "                      max_samples=None, min_impurity_decrease=0.0,\n",
              "                      min_impurity_split=None, min_samples_leaf=1,\n",
              "                      min_samples_split=2, min_weight_fraction_leaf=0.0,\n",
              "                      n_estimators=10, n_jobs=None, oob_score=False,\n",
              "                      random_state=None, verbose=0, warm_start=False)"
            ]
          },
          "metadata": {
            "tags": []
          },
          "execution_count": 56
        }
      ]
    },
    {
      "cell_type": "markdown",
      "metadata": {
        "id": "COg083UjZ0OS"
      },
      "source": [
        "##Testing the regression model"
      ]
    },
    {
      "cell_type": "code",
      "metadata": {
        "colab": {
          "base_uri": "https://localhost:8080/"
        },
        "id": "MKGfidKrQlwO",
        "outputId": "a6a28b16-34ca-4f78-8cbf-b6f54e05ecf7"
      },
      "source": [
        "y_pred = regressor.predict(x_test)\r\n",
        "np.set_printoptions(precision = 2)\r\n",
        "np.concatenate((y_test.reshape(len(y_test), 1), y_pred.reshape(len(y_pred), 1)), 1)\r\n"
      ],
      "execution_count": 57,
      "outputs": [
        {
          "output_type": "execute_result",
          "data": {
            "text/plain": [
              "array([[431.23, 434.21],\n",
              "       [460.01, 458.02],\n",
              "       [461.14, 465.31],\n",
              "       ...,\n",
              "       [473.26, 468.76],\n",
              "       [438.  , 438.25],\n",
              "       [463.28, 461.3 ]])"
            ]
          },
          "metadata": {
            "tags": []
          },
          "execution_count": 57
        }
      ]
    },
    {
      "cell_type": "markdown",
      "metadata": {
        "id": "3L11HiPuZ80i"
      },
      "source": [
        "##Checking the accuracy"
      ]
    },
    {
      "cell_type": "code",
      "metadata": {
        "colab": {
          "base_uri": "https://localhost:8080/"
        },
        "id": "qOJdk3T6Qqjv",
        "outputId": "1c444067-e134-4082-c41b-c324fdfe4e59"
      },
      "source": [
        "from sklearn.metrics import r2_score\r\n",
        "accuracy = r2_score(y_test, y_pred)\r\n",
        "accuracy"
      ],
      "execution_count": 58,
      "outputs": [
        {
          "output_type": "execute_result",
          "data": {
            "text/plain": [
              "0.9617084718237212"
            ]
          },
          "metadata": {
            "tags": []
          },
          "execution_count": 58
        }
      ]
    },
    {
      "cell_type": "code",
      "metadata": {
        "colab": {
          "base_uri": "https://localhost:8080/"
        },
        "id": "hHpnn5sCiM9X",
        "outputId": "65dfb9d6-e21f-47f5-d5a4-2e50df94881a"
      },
      "source": [
        "from sklearn.metrics import mean_squared_error\r\n",
        "error = mean_squared_error(y_test, y_pred)\r\n",
        "error"
      ],
      "execution_count": 59,
      "outputs": [
        {
          "output_type": "execute_result",
          "data": {
            "text/plain": [
              "11.199806194357382"
            ]
          },
          "metadata": {
            "tags": []
          },
          "execution_count": 59
        }
      ]
    },
    {
      "cell_type": "markdown",
      "metadata": {
        "id": "XYdX4klWaA-_"
      },
      "source": [
        "##K-Fold Cross Validation"
      ]
    },
    {
      "cell_type": "code",
      "metadata": {
        "colab": {
          "base_uri": "https://localhost:8080/"
        },
        "id": "uQcovs4BRZGG",
        "outputId": "68081113-27a9-4e4a-b862-c9078017b236"
      },
      "source": [
        "from sklearn.model_selection import cross_val_score\r\n",
        "score = cross_val_score(regressor, x, y)\r\n",
        "score.mean()"
      ],
      "execution_count": 60,
      "outputs": [
        {
          "output_type": "execute_result",
          "data": {
            "text/plain": [
              "0.9582343075893853"
            ]
          },
          "metadata": {
            "tags": []
          },
          "execution_count": 60
        }
      ]
    },
    {
      "cell_type": "code",
      "metadata": {
        "id": "JLD4HXtHilvd"
      },
      "source": [
        ""
      ],
      "execution_count": 60,
      "outputs": []
    }
  ]
}