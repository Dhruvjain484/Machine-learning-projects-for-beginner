{
  "nbformat": 4,
  "nbformat_minor": 0,
  "metadata": {
    "colab": {
      "name": "Salary Data",
      "provenance": [],
      "authorship_tag": "ABX9TyOjQZM0mxGaoC8B7U+l7RqE",
      "include_colab_link": true
    },
    "kernelspec": {
      "name": "python3",
      "display_name": "Python 3"
    }
  },
  "cells": [
    {
      "cell_type": "markdown",
      "metadata": {
        "id": "view-in-github",
        "colab_type": "text"
      },
      "source": [
        "<a href=\"https://colab.research.google.com/github/Dhruvjain484/Machine-learning-projects-for-beginner/blob/main/Salary%20Data/Salary_Data.ipynb\" target=\"_parent\"><img src=\"https://colab.research.google.com/assets/colab-badge.svg\" alt=\"Open In Colab\"/></a>"
      ]
    },
    {
      "cell_type": "markdown",
      "metadata": {
        "id": "jCyt_c18FzsY"
      },
      "source": [
        "##Importing the libraries"
      ]
    },
    {
      "cell_type": "code",
      "metadata": {
        "id": "KCfdUP0k_d7E"
      },
      "source": [
        "import pandas as pd\r\n",
        "import numpy as np \r\n",
        "import matplotlib.pyplot as plt"
      ],
      "execution_count": 43,
      "outputs": []
    },
    {
      "cell_type": "markdown",
      "metadata": {
        "id": "FV41PTmkF3a1"
      },
      "source": [
        "##Importing the dataset"
      ]
    },
    {
      "cell_type": "code",
      "metadata": {
        "id": "QCRQGta6Phq2"
      },
      "source": [
        "dataset = pd.read_csv('Salary_Data.csv')\r\n",
        "x = dataset.iloc[:, :-1].values\r\n",
        "y = dataset.iloc[:, -1].values"
      ],
      "execution_count": 44,
      "outputs": []
    },
    {
      "cell_type": "code",
      "metadata": {
        "colab": {
          "base_uri": "https://localhost:8080/"
        },
        "id": "UdO56HtIPrSN",
        "outputId": "28958ef2-a2cb-47ca-c412-033224aac560"
      },
      "source": [
        "x"
      ],
      "execution_count": 45,
      "outputs": [
        {
          "output_type": "execute_result",
          "data": {
            "text/plain": [
              "array([[ 1.1],\n",
              "       [ 1.3],\n",
              "       [ 1.5],\n",
              "       [ 2. ],\n",
              "       [ 2.2],\n",
              "       [ 2.9],\n",
              "       [ 3. ],\n",
              "       [ 3.2],\n",
              "       [ 3.2],\n",
              "       [ 3.7],\n",
              "       [ 3.9],\n",
              "       [ 4. ],\n",
              "       [ 4. ],\n",
              "       [ 4.1],\n",
              "       [ 4.5],\n",
              "       [ 4.9],\n",
              "       [ 5.1],\n",
              "       [ 5.3],\n",
              "       [ 5.9],\n",
              "       [ 6. ],\n",
              "       [ 6.8],\n",
              "       [ 7.1],\n",
              "       [ 7.9],\n",
              "       [ 8.2],\n",
              "       [ 8.7],\n",
              "       [ 9. ],\n",
              "       [ 9.5],\n",
              "       [ 9.6],\n",
              "       [10.3],\n",
              "       [10.5]])"
            ]
          },
          "metadata": {
            "tags": []
          },
          "execution_count": 45
        }
      ]
    },
    {
      "cell_type": "code",
      "metadata": {
        "id": "ZUuw7hKVP2bM"
      },
      "source": [
        "y = y.reshape(len(y), 1)"
      ],
      "execution_count": 46,
      "outputs": []
    },
    {
      "cell_type": "markdown",
      "metadata": {
        "id": "7KNMk1WFF6UE"
      },
      "source": [
        "##Scaling the dataset\r\n"
      ]
    },
    {
      "cell_type": "code",
      "metadata": {
        "id": "cplrLdQH-Ts-"
      },
      "source": [
        "from sklearn.preprocessing import StandardScaler\r\n",
        "scaled_x = StandardScaler()\r\n",
        "scaled_y = StandardScaler()\r\n",
        "\r\n",
        "x_scaled = scaled_x.fit_transform(x)\r\n",
        "y_scaled = scaled_y.fit_transform(y)"
      ],
      "execution_count": 47,
      "outputs": []
    },
    {
      "cell_type": "markdown",
      "metadata": {
        "id": "8J3WYQ68F8S1"
      },
      "source": [
        "##Training the Regression model on the dataset"
      ]
    },
    {
      "cell_type": "code",
      "metadata": {
        "colab": {
          "base_uri": "https://localhost:8080/"
        },
        "id": "J3z8c7cD_JVk",
        "outputId": "70b1cabc-3a6d-421c-93e4-1d07531b33e9"
      },
      "source": [
        "# from sklearn.linear_model import LinearRegression \r\n",
        "# regressor = LinearRegression()\r\n",
        "\r\n",
        "# from sklearn.svm import SVR\r\n",
        "# regressor = SVR(kernel= 'rbf')\r\n",
        "\r\n",
        "# from sklearn.ensemble import RandomForestRegressor\r\n",
        "# regressor = RandomForestRegressor()\r\n",
        "\r\n",
        "from xgboost import XGBRegressor\r\n",
        "regressor = XGBRegressor()\r\n",
        "regressor.fit(x_scaled, y_scaled)"
      ],
      "execution_count": 48,
      "outputs": [
        {
          "output_type": "stream",
          "text": [
            "[09:08:06] WARNING: /workspace/src/objective/regression_obj.cu:152: reg:linear is now deprecated in favor of reg:squarederror.\n"
          ],
          "name": "stdout"
        },
        {
          "output_type": "execute_result",
          "data": {
            "text/plain": [
              "XGBRegressor(base_score=0.5, booster='gbtree', colsample_bylevel=1,\n",
              "             colsample_bynode=1, colsample_bytree=1, gamma=0,\n",
              "             importance_type='gain', learning_rate=0.1, max_delta_step=0,\n",
              "             max_depth=3, min_child_weight=1, missing=None, n_estimators=100,\n",
              "             n_jobs=1, nthread=None, objective='reg:linear', random_state=0,\n",
              "             reg_alpha=0, reg_lambda=1, scale_pos_weight=1, seed=None,\n",
              "             silent=None, subsample=1, verbosity=1)"
            ]
          },
          "metadata": {
            "tags": []
          },
          "execution_count": 48
        }
      ]
    },
    {
      "cell_type": "markdown",
      "metadata": {
        "id": "9S3S13kiGCaE"
      },
      "source": [
        "##Predicting the result"
      ]
    },
    {
      "cell_type": "code",
      "metadata": {
        "colab": {
          "base_uri": "https://localhost:8080/"
        },
        "id": "PM7-Mins_XLN",
        "outputId": "c8f3f41a-0662-4d8a-c4aa-abb281989c46"
      },
      "source": [
        "y_pred = scaled_y.inverse_transform(regressor.predict(x_scaled))\r\n",
        "np.set_printoptions(precision = 2)\r\n",
        "y_pred = y_pred.reshape(len(y_pred), 1)\r\n",
        "y_pred"
      ],
      "execution_count": 49,
      "outputs": [
        {
          "output_type": "execute_result",
          "data": {
            "text/plain": [
              "array([[ 39860.65],\n",
              "       [ 45393.4 ],\n",
              "       [ 38602.94],\n",
              "       [ 42422.95],\n",
              "       [ 41139.68],\n",
              "       [ 56722.05],\n",
              "       [ 59216.45],\n",
              "       [ 59216.45],\n",
              "       [ 59216.45],\n",
              "       [ 58822.7 ],\n",
              "       [ 61420.2 ],\n",
              "       [ 57079.63],\n",
              "       [ 57079.63],\n",
              "       [ 57254.59],\n",
              "       [ 61151.99],\n",
              "       [ 67037.2 ],\n",
              "       [ 66936.55],\n",
              "       [ 82243.57],\n",
              "       [ 82195.74],\n",
              "       [ 92798.38],\n",
              "       [ 92798.38],\n",
              "       [ 98228.56],\n",
              "       [101257.7 ],\n",
              "       [112440.36],\n",
              "       [109247.68],\n",
              "       [106937.13],\n",
              "       [116035.95],\n",
              "       [113657.66],\n",
              "       [121879.3 ],\n",
              "       [121761.88]], dtype=float32)"
            ]
          },
          "metadata": {
            "tags": []
          },
          "execution_count": 49
        }
      ]
    },
    {
      "cell_type": "code",
      "metadata": {
        "colab": {
          "base_uri": "https://localhost:8080/"
        },
        "id": "gXFREsmk_dvL",
        "outputId": "f651a90b-43a0-4bd5-b182-69447d2539d6"
      },
      "source": [
        "np.concatenate((y, y_pred), 1)\r\n"
      ],
      "execution_count": 50,
      "outputs": [
        {
          "output_type": "execute_result",
          "data": {
            "text/plain": [
              "array([[ 39343.  ,  39860.65],\n",
              "       [ 46205.  ,  45393.4 ],\n",
              "       [ 37731.  ,  38602.94],\n",
              "       [ 43525.  ,  42422.95],\n",
              "       [ 39891.  ,  41139.68],\n",
              "       [ 56642.  ,  56722.05],\n",
              "       [ 60150.  ,  59216.45],\n",
              "       [ 54445.  ,  59216.45],\n",
              "       [ 64445.  ,  59216.45],\n",
              "       [ 57189.  ,  58822.7 ],\n",
              "       [ 63218.  ,  61420.2 ],\n",
              "       [ 55794.  ,  57079.63],\n",
              "       [ 56957.  ,  57079.63],\n",
              "       [ 57081.  ,  57254.59],\n",
              "       [ 61111.  ,  61151.99],\n",
              "       [ 67938.  ,  67037.2 ],\n",
              "       [ 66029.  ,  66936.55],\n",
              "       [ 83088.  ,  82243.57],\n",
              "       [ 81363.  ,  82195.74],\n",
              "       [ 93940.  ,  92798.38],\n",
              "       [ 91738.  ,  92798.38],\n",
              "       [ 98273.  ,  98228.56],\n",
              "       [101302.  , 101257.7 ],\n",
              "       [113812.  , 112440.36],\n",
              "       [109431.  , 109247.68],\n",
              "       [105582.  , 106937.13],\n",
              "       [116969.  , 116035.95],\n",
              "       [112635.  , 113657.66],\n",
              "       [122391.  , 121879.3 ],\n",
              "       [121872.  , 121761.88]])"
            ]
          },
          "metadata": {
            "tags": []
          },
          "execution_count": 50
        }
      ]
    },
    {
      "cell_type": "markdown",
      "metadata": {
        "id": "e1cCHPuiGGSV"
      },
      "source": [
        "##Visulising the regression model"
      ]
    },
    {
      "cell_type": "code",
      "metadata": {
        "colab": {
          "base_uri": "https://localhost:8080/",
          "height": 281
        },
        "id": "xHrdKWeK_eqd",
        "outputId": "5e6f223f-add3-4008-bc80-cd93bb355caa"
      },
      "source": [
        "plt.scatter(x, y, color = 'r')\r\n",
        "plt.plot(x, y_pred)"
      ],
      "execution_count": 51,
      "outputs": [
        {
          "output_type": "execute_result",
          "data": {
            "text/plain": [
              "[<matplotlib.lines.Line2D at 0x7fd29f01e550>]"
            ]
          },
          "metadata": {
            "tags": []
          },
          "execution_count": 51
        },
        {
          "output_type": "display_data",
          "data": {
            "image/png": "[encoded data removed]",
            "text/plain": [
              "<Figure size 432x288 with 1 Axes>"
            ]
          },
          "metadata": {
            "tags": [],
            "needs_background": "light"
          }
        }
      ]
    },
    {
      "cell_type": "markdown",
      "metadata": {
        "id": "D0pCHRc_GNWV"
      },
      "source": [
        "##Checking the accuracy"
      ]
    },
    {
      "cell_type": "code",
      "metadata": {
        "colab": {
          "base_uri": "https://localhost:8080/"
        },
        "id": "hORDFEjtBw1J",
        "outputId": "daeec5f4-8bda-4b3b-d463-dec69a3f9ca6"
      },
      "source": [
        "from sklearn.metrics import r2_score\r\n",
        "r2_score(y ,y_pred)"
      ],
      "execution_count": 52,
      "outputs": [
        {
          "output_type": "execute_result",
          "data": {
            "text/plain": [
              "0.9965836699188425"
            ]
          },
          "metadata": {
            "tags": []
          },
          "execution_count": 52
        }
      ]
    },
    {
      "cell_type": "code",
      "metadata": {
        "id": "5fWQf0aMFwKG"
      },
      "source": [
        ""
      ],
      "execution_count": 52,
      "outputs": []
    }
  ]
}